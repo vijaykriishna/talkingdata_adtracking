{
  "nbformat": 4,
  "nbformat_minor": 0,
  "metadata": {
    "kernelspec": {
      "name": "python3",
      "display_name": "Python 3",
      "language": "python"
    },
    "language_info": {
      "name": "python",
      "version": "3.7.6",
      "mimetype": "text/x-python",
      "codemirror_mode": {
        "name": "ipython",
        "version": 3
      },
      "pygments_lexer": "ipython3",
      "nbconvert_exporter": "python",
      "file_extension": ".py"
    },
    "colab": {
      "name": "baseline-model.ipynb",
      "provenance": [],
      "collapsed_sections": [],
      "toc_visible": true,
      "include_colab_link": true
    }
  },
  "cells": [
    {
      "cell_type": "markdown",
      "metadata": {
        "id": "view-in-github",
        "colab_type": "text"
      },
      "source": [
        "<a href=\"https://colab.research.google.com/github/vijaykriishna/talkingdata_adtracking/blob/master/baseline_model.ipynb\" target=\"_parent\"><img src=\"https://colab.research.google.com/assets/colab-badge.svg\" alt=\"Open In Colab\"/></a>"
      ]
    },
    {
      "cell_type": "markdown",
      "metadata": {
        "id": "ZP5pLJBA2EWq"
      },
      "source": [
        "# Introduction\n",
        "\n",
        "You will use a small sample of the data, dropping 99% of negative records (where the app wasn't downloaded) to make the target more balanced.\n",
        "\n",
        "After building a baseline model, you'll be able to see how your feature engineering and selection efforts improve the model's performance.\n",
        "\n",
        "## Setup\n",
        "\n",
        "Begin by running the code cell below."
      ]
    },
    {
      "cell_type": "markdown",
      "metadata": {
        "id": "Wai2oa5h2EWr"
      },
      "source": [
        "## Baseline Model\n",
        "\n",
        "The first thing you'll do is construct a baseline model. We'll begin by looking at the data."
      ]
    },
    {
      "cell_type": "code",
      "metadata": {
        "trusted": true,
        "colab": {
          "base_uri": "https://localhost:8080/",
          "height": 204
        },
        "id": "Uhe6ZlVL2EWr",
        "outputId": "511f3060-4e63-4b26-f8cd-4b4ce78e5667"
      },
      "source": [
        "import pandas as pd\n",
        "\n",
        "click_data = pd.read_csv('/content/input/train_sample.csv',\n",
        "                         parse_dates=['click_time'])\n",
        "click_data.head()"
      ],
      "execution_count": 12,
      "outputs": [
        {
          "output_type": "execute_result",
          "data": {
            "text/html": [
              "<div>\n",
              "<style scoped>\n",
              "    .dataframe tbody tr th:only-of-type {\n",
              "        vertical-align: middle;\n",
              "    }\n",
              "\n",
              "    .dataframe tbody tr th {\n",
              "        vertical-align: top;\n",
              "    }\n",
              "\n",
              "    .dataframe thead th {\n",
              "        text-align: right;\n",
              "    }\n",
              "</style>\n",
              "<table border=\"1\" class=\"dataframe\">\n",
              "  <thead>\n",
              "    <tr style=\"text-align: right;\">\n",
              "      <th></th>\n",
              "      <th>ip</th>\n",
              "      <th>app</th>\n",
              "      <th>device</th>\n",
              "      <th>os</th>\n",
              "      <th>channel</th>\n",
              "      <th>click_time</th>\n",
              "      <th>attributed_time</th>\n",
              "      <th>is_attributed</th>\n",
              "    </tr>\n",
              "  </thead>\n",
              "  <tbody>\n",
              "    <tr>\n",
              "      <th>0</th>\n",
              "      <td>89489</td>\n",
              "      <td>3</td>\n",
              "      <td>1</td>\n",
              "      <td>13</td>\n",
              "      <td>379</td>\n",
              "      <td>2017-11-06 15:13:23</td>\n",
              "      <td>NaN</td>\n",
              "      <td>0</td>\n",
              "    </tr>\n",
              "    <tr>\n",
              "      <th>1</th>\n",
              "      <td>204158</td>\n",
              "      <td>35</td>\n",
              "      <td>1</td>\n",
              "      <td>13</td>\n",
              "      <td>21</td>\n",
              "      <td>2017-11-06 15:41:07</td>\n",
              "      <td>2017-11-07 08:17:19</td>\n",
              "      <td>1</td>\n",
              "    </tr>\n",
              "    <tr>\n",
              "      <th>2</th>\n",
              "      <td>3437</td>\n",
              "      <td>6</td>\n",
              "      <td>1</td>\n",
              "      <td>13</td>\n",
              "      <td>459</td>\n",
              "      <td>2017-11-06 15:42:32</td>\n",
              "      <td>NaN</td>\n",
              "      <td>0</td>\n",
              "    </tr>\n",
              "    <tr>\n",
              "      <th>3</th>\n",
              "      <td>167543</td>\n",
              "      <td>3</td>\n",
              "      <td>1</td>\n",
              "      <td>13</td>\n",
              "      <td>379</td>\n",
              "      <td>2017-11-06 15:56:17</td>\n",
              "      <td>NaN</td>\n",
              "      <td>0</td>\n",
              "    </tr>\n",
              "    <tr>\n",
              "      <th>4</th>\n",
              "      <td>147509</td>\n",
              "      <td>3</td>\n",
              "      <td>1</td>\n",
              "      <td>13</td>\n",
              "      <td>379</td>\n",
              "      <td>2017-11-06 15:57:01</td>\n",
              "      <td>NaN</td>\n",
              "      <td>0</td>\n",
              "    </tr>\n",
              "  </tbody>\n",
              "</table>\n",
              "</div>"
            ],
            "text/plain": [
              "       ip  app  device  ...          click_time      attributed_time is_attributed\n",
              "0   89489    3       1  ... 2017-11-06 15:13:23                  NaN             0\n",
              "1  204158   35       1  ... 2017-11-06 15:41:07  2017-11-07 08:17:19             1\n",
              "2    3437    6       1  ... 2017-11-06 15:42:32                  NaN             0\n",
              "3  167543    3       1  ... 2017-11-06 15:56:17                  NaN             0\n",
              "4  147509    3       1  ... 2017-11-06 15:57:01                  NaN             0\n",
              "\n",
              "[5 rows x 8 columns]"
            ]
          },
          "metadata": {
            "tags": []
          },
          "execution_count": 12
        }
      ]
    },
    {
      "cell_type": "markdown",
      "metadata": {
        "id": "dWA9e38v2EWr"
      },
      "source": [
        "### 1) Construct features from timestamps\n",
        "\n",
        "Notice that the `click_data` DataFrame has a `'click_time'` column with timestamp data.\n",
        "\n",
        "Use this column to create features for the coresponding day, hour, minute and second. \n",
        "\n",
        "Store these as new integer columns `day`, `hour`, `minute`, and `second` in a new DataFrame `clicks`."
      ]
    },
    {
      "cell_type": "code",
      "metadata": {
        "trusted": true,
        "id": "T-vEuEbc2EWs"
      },
      "source": [
        "# Add new columns for timestamp features day, hour, minute, and second\n",
        "clicks = click_data.copy()\n",
        "clicks['day'] = clicks['click_time'].dt.day.astype('uint8')\n",
        "# Fill in the rest\n",
        "clicks['hour'] = clicks['click_time'].dt.hour.astype('uint8')\n",
        "clicks['minute'] = clicks['click_time'].dt.minute.astype('uint8')\n",
        "clicks['second'] = clicks['click_time'].dt.second.astype('uint8')"
      ],
      "execution_count": 13,
      "outputs": []
    },
    {
      "cell_type": "markdown",
      "metadata": {
        "id": "opYr9HpF2EWs"
      },
      "source": [
        "### 2) Label Encoding\n",
        "For each of the categorical features `['ip', 'app', 'device', 'os', 'channel']`, use scikit-learn's `LabelEncoder` to create new features in the `clicks` DataFrame. The new column names should be the original column name with `'_labels'` appended, like `ip_labels`."
      ]
    },
    {
      "cell_type": "code",
      "metadata": {
        "trusted": true,
        "id": "us_IUgpr2EWs"
      },
      "source": [
        "from sklearn import preprocessing\n",
        "\n",
        "cat_features = ['ip', 'app', 'device', 'os', 'channel']\n",
        "\n",
        "# Create new columns in clicks using preprocessing.LabelEncoder()\n",
        "encoder = preprocessing.LabelEncoder()\n",
        "for feature in cat_features:\n",
        "    encoded = encoder.fit_transform(clicks[feature])\n",
        "    clicks[feature + '_labels'] = encoded"
      ],
      "execution_count": 14,
      "outputs": []
    },
    {
      "cell_type": "markdown",
      "metadata": {
        "id": "uM4kOuOV2EWs"
      },
      "source": [
        "Run the next code cell to view your new DataFrame."
      ]
    },
    {
      "cell_type": "code",
      "metadata": {
        "trusted": true,
        "colab": {
          "base_uri": "https://localhost:8080/",
          "height": 309
        },
        "id": "BheNv1JI2EWs",
        "outputId": "9e5059a0-5aea-4602-c8a7-ac84279e679b"
      },
      "source": [
        "clicks.head()"
      ],
      "execution_count": 15,
      "outputs": [
        {
          "output_type": "execute_result",
          "data": {
            "text/html": [
              "<div>\n",
              "<style scoped>\n",
              "    .dataframe tbody tr th:only-of-type {\n",
              "        vertical-align: middle;\n",
              "    }\n",
              "\n",
              "    .dataframe tbody tr th {\n",
              "        vertical-align: top;\n",
              "    }\n",
              "\n",
              "    .dataframe thead th {\n",
              "        text-align: right;\n",
              "    }\n",
              "</style>\n",
              "<table border=\"1\" class=\"dataframe\">\n",
              "  <thead>\n",
              "    <tr style=\"text-align: right;\">\n",
              "      <th></th>\n",
              "      <th>ip</th>\n",
              "      <th>app</th>\n",
              "      <th>device</th>\n",
              "      <th>os</th>\n",
              "      <th>channel</th>\n",
              "      <th>click_time</th>\n",
              "      <th>attributed_time</th>\n",
              "      <th>is_attributed</th>\n",
              "      <th>day</th>\n",
              "      <th>hour</th>\n",
              "      <th>minute</th>\n",
              "      <th>second</th>\n",
              "      <th>ip_labels</th>\n",
              "      <th>app_labels</th>\n",
              "      <th>device_labels</th>\n",
              "      <th>os_labels</th>\n",
              "      <th>channel_labels</th>\n",
              "    </tr>\n",
              "  </thead>\n",
              "  <tbody>\n",
              "    <tr>\n",
              "      <th>0</th>\n",
              "      <td>89489</td>\n",
              "      <td>3</td>\n",
              "      <td>1</td>\n",
              "      <td>13</td>\n",
              "      <td>379</td>\n",
              "      <td>2017-11-06 15:13:23</td>\n",
              "      <td>NaN</td>\n",
              "      <td>0</td>\n",
              "      <td>6</td>\n",
              "      <td>15</td>\n",
              "      <td>13</td>\n",
              "      <td>23</td>\n",
              "      <td>19608</td>\n",
              "      <td>3</td>\n",
              "      <td>1</td>\n",
              "      <td>13</td>\n",
              "      <td>112</td>\n",
              "    </tr>\n",
              "    <tr>\n",
              "      <th>1</th>\n",
              "      <td>204158</td>\n",
              "      <td>35</td>\n",
              "      <td>1</td>\n",
              "      <td>13</td>\n",
              "      <td>21</td>\n",
              "      <td>2017-11-06 15:41:07</td>\n",
              "      <td>2017-11-07 08:17:19</td>\n",
              "      <td>1</td>\n",
              "      <td>6</td>\n",
              "      <td>15</td>\n",
              "      <td>41</td>\n",
              "      <td>7</td>\n",
              "      <td>93932</td>\n",
              "      <td>34</td>\n",
              "      <td>1</td>\n",
              "      <td>13</td>\n",
              "      <td>10</td>\n",
              "    </tr>\n",
              "    <tr>\n",
              "      <th>2</th>\n",
              "      <td>3437</td>\n",
              "      <td>6</td>\n",
              "      <td>1</td>\n",
              "      <td>13</td>\n",
              "      <td>459</td>\n",
              "      <td>2017-11-06 15:42:32</td>\n",
              "      <td>NaN</td>\n",
              "      <td>0</td>\n",
              "      <td>6</td>\n",
              "      <td>15</td>\n",
              "      <td>42</td>\n",
              "      <td>32</td>\n",
              "      <td>759</td>\n",
              "      <td>6</td>\n",
              "      <td>1</td>\n",
              "      <td>13</td>\n",
              "      <td>146</td>\n",
              "    </tr>\n",
              "    <tr>\n",
              "      <th>3</th>\n",
              "      <td>167543</td>\n",
              "      <td>3</td>\n",
              "      <td>1</td>\n",
              "      <td>13</td>\n",
              "      <td>379</td>\n",
              "      <td>2017-11-06 15:56:17</td>\n",
              "      <td>NaN</td>\n",
              "      <td>0</td>\n",
              "      <td>6</td>\n",
              "      <td>15</td>\n",
              "      <td>56</td>\n",
              "      <td>17</td>\n",
              "      <td>62708</td>\n",
              "      <td>3</td>\n",
              "      <td>1</td>\n",
              "      <td>13</td>\n",
              "      <td>112</td>\n",
              "    </tr>\n",
              "    <tr>\n",
              "      <th>4</th>\n",
              "      <td>147509</td>\n",
              "      <td>3</td>\n",
              "      <td>1</td>\n",
              "      <td>13</td>\n",
              "      <td>379</td>\n",
              "      <td>2017-11-06 15:57:01</td>\n",
              "      <td>NaN</td>\n",
              "      <td>0</td>\n",
              "      <td>6</td>\n",
              "      <td>15</td>\n",
              "      <td>57</td>\n",
              "      <td>1</td>\n",
              "      <td>45648</td>\n",
              "      <td>3</td>\n",
              "      <td>1</td>\n",
              "      <td>13</td>\n",
              "      <td>112</td>\n",
              "    </tr>\n",
              "  </tbody>\n",
              "</table>\n",
              "</div>"
            ],
            "text/plain": [
              "       ip  app  device  ...  device_labels  os_labels channel_labels\n",
              "0   89489    3       1  ...              1         13            112\n",
              "1  204158   35       1  ...              1         13             10\n",
              "2    3437    6       1  ...              1         13            146\n",
              "3  167543    3       1  ...              1         13            112\n",
              "4  147509    3       1  ...              1         13            112\n",
              "\n",
              "[5 rows x 17 columns]"
            ]
          },
          "metadata": {
            "tags": []
          },
          "execution_count": 15
        }
      ]
    },
    {
      "cell_type": "markdown",
      "metadata": {
        "id": "Me_YyyKu2EWs"
      },
      "source": [
        "## Train, validation, and test sets\n",
        "With our baseline features ready, we need to split our data into training and validation sets. We should also hold out a test set to measure the final accuracy of the model."
      ]
    },
    {
      "cell_type": "markdown",
      "metadata": {
        "id": "7JZ8QGma2EWs"
      },
      "source": [
        "### Create train/validation/test splits\n",
        "\n",
        "Here we'll create training, validation, and test splits. First, `clicks` DataFrame is sorted in order of increasing time. The first 80% of the rows are the train set, the next 10% are the validation set, and the last 10% are the test set."
      ]
    },
    {
      "cell_type": "code",
      "metadata": {
        "trusted": true,
        "id": "Y2hqQcev2EWs"
      },
      "source": [
        "feature_cols = ['day', 'hour', 'minute', 'second', \n",
        "                'ip_labels', 'app_labels', 'device_labels',\n",
        "                'os_labels', 'channel_labels']\n",
        "\n",
        "valid_fraction = 0.1\n",
        "clicks_srt = clicks.sort_values('click_time')\n",
        "valid_rows = int(len(clicks_srt) * valid_fraction)\n",
        "train = clicks_srt[:-valid_rows * 2]\n",
        "# valid size == test size, last two sections of the data\n",
        "valid = clicks_srt[-valid_rows * 2:-valid_rows]\n",
        "test = clicks_srt[-valid_rows:]"
      ],
      "execution_count": 16,
      "outputs": []
    },
    {
      "cell_type": "markdown",
      "metadata": {
        "id": "3bBxAUYl2EWs"
      },
      "source": [
        "### Train with LightGBM\n",
        "\n",
        "Now we can create LightGBM dataset objects for each of the smaller datasets and train the baseline model."
      ]
    },
    {
      "cell_type": "code",
      "metadata": {
        "trusted": true,
        "colab": {
          "base_uri": "https://localhost:8080/"
        },
        "id": "rpCzRITh2EWs",
        "outputId": "7011ab8a-fd95-4c37-f247-045aa945c95f"
      },
      "source": [
        "import lightgbm as lgb\n",
        "\n",
        "dtrain = lgb.Dataset(train[feature_cols], label=train['is_attributed'])\n",
        "dvalid = lgb.Dataset(valid[feature_cols], label=valid['is_attributed'])\n",
        "dtest = lgb.Dataset(test[feature_cols], label=test['is_attributed'])\n",
        "\n",
        "param = {'num_leaves': 64, 'objective': 'binary'}\n",
        "param['metric'] = 'auc'\n",
        "num_round = 1000\n",
        "bst = lgb.train(param, dtrain, num_round, valid_sets=[dvalid], early_stopping_rounds=10)"
      ],
      "execution_count": 17,
      "outputs": [
        {
          "output_type": "stream",
          "text": [
            "[1]\tvalid_0's auc: 0.957185\n",
            "Training until validation scores don't improve for 10 rounds.\n",
            "[2]\tvalid_0's auc: 0.957406\n",
            "[3]\tvalid_0's auc: 0.957654\n",
            "[4]\tvalid_0's auc: 0.961531\n",
            "[5]\tvalid_0's auc: 0.962276\n",
            "[6]\tvalid_0's auc: 0.963218\n",
            "[7]\tvalid_0's auc: 0.963622\n",
            "[8]\tvalid_0's auc: 0.964125\n",
            "[9]\tvalid_0's auc: 0.964551\n",
            "[10]\tvalid_0's auc: 0.964523\n",
            "[11]\tvalid_0's auc: 0.964676\n",
            "[12]\tvalid_0's auc: 0.964746\n",
            "[13]\tvalid_0's auc: 0.96536\n",
            "[14]\tvalid_0's auc: 0.96534\n",
            "[15]\tvalid_0's auc: 0.965495\n",
            "[16]\tvalid_0's auc: 0.965761\n",
            "[17]\tvalid_0's auc: 0.966125\n",
            "[18]\tvalid_0's auc: 0.966389\n",
            "[19]\tvalid_0's auc: 0.966697\n",
            "[20]\tvalid_0's auc: 0.966788\n",
            "[21]\tvalid_0's auc: 0.967056\n",
            "[22]\tvalid_0's auc: 0.967468\n",
            "[23]\tvalid_0's auc: 0.967599\n",
            "[24]\tvalid_0's auc: 0.967768\n",
            "[25]\tvalid_0's auc: 0.967887\n",
            "[26]\tvalid_0's auc: 0.968028\n",
            "[27]\tvalid_0's auc: 0.968135\n",
            "[28]\tvalid_0's auc: 0.968268\n",
            "[29]\tvalid_0's auc: 0.968473\n",
            "[30]\tvalid_0's auc: 0.968637\n",
            "[31]\tvalid_0's auc: 0.968777\n",
            "[32]\tvalid_0's auc: 0.968898\n",
            "[33]\tvalid_0's auc: 0.968883\n",
            "[34]\tvalid_0's auc: 0.96915\n",
            "[35]\tvalid_0's auc: 0.969266\n",
            "[36]\tvalid_0's auc: 0.969367\n",
            "[37]\tvalid_0's auc: 0.969359\n",
            "[38]\tvalid_0's auc: 0.969336\n",
            "[39]\tvalid_0's auc: 0.969443\n",
            "[40]\tvalid_0's auc: 0.969504\n",
            "[41]\tvalid_0's auc: 0.969556\n",
            "[42]\tvalid_0's auc: 0.969631\n",
            "[43]\tvalid_0's auc: 0.969811\n",
            "[44]\tvalid_0's auc: 0.969853\n",
            "[45]\tvalid_0's auc: 0.969969\n",
            "[46]\tvalid_0's auc: 0.970029\n",
            "[47]\tvalid_0's auc: 0.970107\n",
            "[48]\tvalid_0's auc: 0.970177\n",
            "[49]\tvalid_0's auc: 0.970229\n",
            "[50]\tvalid_0's auc: 0.970381\n",
            "[51]\tvalid_0's auc: 0.970463\n",
            "[52]\tvalid_0's auc: 0.970535\n",
            "[53]\tvalid_0's auc: 0.970563\n",
            "[54]\tvalid_0's auc: 0.97067\n",
            "[55]\tvalid_0's auc: 0.970684\n",
            "[56]\tvalid_0's auc: 0.970751\n",
            "[57]\tvalid_0's auc: 0.9708\n",
            "[58]\tvalid_0's auc: 0.970848\n",
            "[59]\tvalid_0's auc: 0.970924\n",
            "[60]\tvalid_0's auc: 0.971023\n",
            "[61]\tvalid_0's auc: 0.971051\n",
            "[62]\tvalid_0's auc: 0.971098\n",
            "[63]\tvalid_0's auc: 0.971128\n",
            "[64]\tvalid_0's auc: 0.97117\n",
            "[65]\tvalid_0's auc: 0.971218\n",
            "[66]\tvalid_0's auc: 0.971374\n",
            "[67]\tvalid_0's auc: 0.971391\n",
            "[68]\tvalid_0's auc: 0.971437\n",
            "[69]\tvalid_0's auc: 0.971462\n",
            "[70]\tvalid_0's auc: 0.971467\n",
            "[71]\tvalid_0's auc: 0.971486\n",
            "[72]\tvalid_0's auc: 0.971491\n",
            "[73]\tvalid_0's auc: 0.971537\n",
            "[74]\tvalid_0's auc: 0.971553\n",
            "[75]\tvalid_0's auc: 0.971554\n",
            "[76]\tvalid_0's auc: 0.971553\n",
            "[77]\tvalid_0's auc: 0.971569\n",
            "[78]\tvalid_0's auc: 0.971576\n",
            "[79]\tvalid_0's auc: 0.971596\n",
            "[80]\tvalid_0's auc: 0.971586\n",
            "[81]\tvalid_0's auc: 0.971586\n",
            "[82]\tvalid_0's auc: 0.971594\n",
            "[83]\tvalid_0's auc: 0.971671\n",
            "[84]\tvalid_0's auc: 0.971686\n",
            "[85]\tvalid_0's auc: 0.971687\n",
            "[86]\tvalid_0's auc: 0.971708\n",
            "[87]\tvalid_0's auc: 0.97169\n",
            "[88]\tvalid_0's auc: 0.971688\n",
            "[89]\tvalid_0's auc: 0.97168\n",
            "[90]\tvalid_0's auc: 0.971692\n",
            "[91]\tvalid_0's auc: 0.9717\n",
            "[92]\tvalid_0's auc: 0.971792\n",
            "[93]\tvalid_0's auc: 0.971795\n",
            "[94]\tvalid_0's auc: 0.971804\n",
            "[95]\tvalid_0's auc: 0.971824\n",
            "[96]\tvalid_0's auc: 0.971842\n",
            "[97]\tvalid_0's auc: 0.971872\n",
            "[98]\tvalid_0's auc: 0.971887\n",
            "[99]\tvalid_0's auc: 0.972033\n",
            "[100]\tvalid_0's auc: 0.972033\n",
            "[101]\tvalid_0's auc: 0.97204\n",
            "[102]\tvalid_0's auc: 0.972049\n",
            "[103]\tvalid_0's auc: 0.972061\n",
            "[104]\tvalid_0's auc: 0.972057\n",
            "[105]\tvalid_0's auc: 0.972052\n",
            "[106]\tvalid_0's auc: 0.972048\n",
            "[107]\tvalid_0's auc: 0.972086\n",
            "[108]\tvalid_0's auc: 0.972119\n",
            "[109]\tvalid_0's auc: 0.972157\n",
            "[110]\tvalid_0's auc: 0.972171\n",
            "[111]\tvalid_0's auc: 0.972168\n",
            "[112]\tvalid_0's auc: 0.972199\n",
            "[113]\tvalid_0's auc: 0.972247\n",
            "[114]\tvalid_0's auc: 0.972269\n",
            "[115]\tvalid_0's auc: 0.972272\n",
            "[116]\tvalid_0's auc: 0.972281\n",
            "[117]\tvalid_0's auc: 0.97229\n",
            "[118]\tvalid_0's auc: 0.972307\n",
            "[119]\tvalid_0's auc: 0.972282\n",
            "[120]\tvalid_0's auc: 0.972319\n",
            "[121]\tvalid_0's auc: 0.972312\n",
            "[122]\tvalid_0's auc: 0.972302\n",
            "[123]\tvalid_0's auc: 0.972308\n",
            "[124]\tvalid_0's auc: 0.972323\n",
            "[125]\tvalid_0's auc: 0.972323\n",
            "[126]\tvalid_0's auc: 0.972347\n",
            "[127]\tvalid_0's auc: 0.972349\n",
            "[128]\tvalid_0's auc: 0.972349\n",
            "[129]\tvalid_0's auc: 0.972347\n",
            "[130]\tvalid_0's auc: 0.972342\n",
            "[131]\tvalid_0's auc: 0.972342\n",
            "[132]\tvalid_0's auc: 0.972335\n",
            "[133]\tvalid_0's auc: 0.97244\n",
            "[134]\tvalid_0's auc: 0.972448\n",
            "[135]\tvalid_0's auc: 0.97247\n",
            "[136]\tvalid_0's auc: 0.972456\n",
            "[137]\tvalid_0's auc: 0.972451\n",
            "[138]\tvalid_0's auc: 0.972447\n",
            "[139]\tvalid_0's auc: 0.97244\n",
            "[140]\tvalid_0's auc: 0.972435\n",
            "[141]\tvalid_0's auc: 0.972443\n",
            "[142]\tvalid_0's auc: 0.972445\n",
            "[143]\tvalid_0's auc: 0.972442\n",
            "[144]\tvalid_0's auc: 0.972437\n",
            "[145]\tvalid_0's auc: 0.972455\n",
            "Early stopping, best iteration is:\n",
            "[135]\tvalid_0's auc: 0.97247\n"
          ],
          "name": "stdout"
        }
      ]
    },
    {
      "cell_type": "markdown",
      "metadata": {
        "id": "MwpO-N0d2EWt"
      },
      "source": [
        "## Evaluate the model\n",
        "Finally, with the model trained, we evaluate its performance on the test set. "
      ]
    },
    {
      "cell_type": "code",
      "metadata": {
        "trusted": true,
        "colab": {
          "base_uri": "https://localhost:8080/"
        },
        "id": "7Fbr6MKQ2EWt",
        "outputId": "b20e1f10-95c0-42be-b169-778ef2262955"
      },
      "source": [
        "from sklearn import metrics\n",
        "\n",
        "ypred = bst.predict(test[feature_cols])\n",
        "score = metrics.roc_auc_score(test['is_attributed'], ypred)\n",
        "print(f\"Test score: {score}\")"
      ],
      "execution_count": 18,
      "outputs": [
        {
          "output_type": "stream",
          "text": [
            "Test score: 0.9781856503287598\n"
          ],
          "name": "stdout"
        }
      ]
    },
    {
      "cell_type": "markdown",
      "metadata": {
        "id": "KDP29Qjd2EWt"
      },
      "source": [
        "This will be our baseline score for the model. When we transform features, add new ones, or perform feature selection, we should be improving on this score. However, since this is the test set, we only want to look at it at the end of all our manipulations."
      ]
    }
  ]
}