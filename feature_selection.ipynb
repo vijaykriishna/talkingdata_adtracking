{
  "nbformat": 4,
  "nbformat_minor": 0,
  "metadata": {
    "kernelspec": {
      "name": "python3",
      "display_name": "Python 3",
      "language": "python"
    },
    "language_info": {
      "name": "python",
      "version": "3.7.6",
      "mimetype": "text/x-python",
      "codemirror_mode": {
        "name": "ipython",
        "version": 3
      },
      "pygments_lexer": "ipython3",
      "nbconvert_exporter": "python",
      "file_extension": ".py"
    },
    "colab": {
      "name": "feature-selection.ipynb",
      "provenance": [],
      "toc_visible": true,
      "include_colab_link": true
    }
  },
  "cells": [
    {
      "cell_type": "markdown",
      "metadata": {
        "id": "view-in-github",
        "colab_type": "text"
      },
      "source": [
        "<a href=\"https://colab.research.google.com/github/vijaykriishna/talkingdata_adtracking/blob/master/feature_selection.ipynb\" target=\"_parent\"><img src=\"https://colab.research.google.com/assets/colab-badge.svg\" alt=\"Open In Colab\"/></a>"
      ]
    },
    {
      "cell_type": "markdown",
      "metadata": {
        "id": "i_tt2zNBVwNe"
      },
      "source": [
        "# Introduction\n",
        "\n",
        "Use some feature selection algorithms to improve your model. Some methods take a while to run, so you'll write functions and verify they work on small samples."
      ]
    },
    {
      "cell_type": "markdown",
      "metadata": {
        "id": "vRqatXvJVwNe"
      },
      "source": [
        "Then run the following cell. It takes a minute or so to run."
      ]
    },
    {
      "cell_type": "code",
      "metadata": {
        "trusted": true,
        "id": "N9WlkdGaVwNe"
      },
      "source": [
        "import numpy as np\n",
        "import pandas as pd\n",
        "from sklearn import preprocessing, metrics\n",
        "import lightgbm as lgb\n",
        "\n",
        "import os\n",
        "\n",
        "clicks = pd.read_parquet('/content/input/baseline_data.pqt')\n",
        "data_files = ['count_encodings.pqt',\n",
        "              'catboost_encodings.pqt',\n",
        "              'interactions.pqt',\n",
        "              'past_6hr_events.pqt',\n",
        "              'downloads.pqt',\n",
        "              'time_deltas.pqt',\n",
        "              'svd_encodings.pqt']\n",
        "data_root = '/content/input'\n",
        "for file in data_files:\n",
        "    features = pd.read_parquet(os.path.join(data_root, file))\n",
        "    clicks = clicks.join(features)\n",
        "\n",
        "def get_data_splits(dataframe, valid_fraction=0.1):\n",
        "\n",
        "    dataframe = dataframe.sort_values('click_time')\n",
        "    valid_rows = int(len(dataframe) * valid_fraction)\n",
        "    train = dataframe[:-valid_rows * 2]\n",
        "    # valid size == test size, last two sections of the data\n",
        "    valid = dataframe[-valid_rows * 2:-valid_rows]\n",
        "    test = dataframe[-valid_rows:]\n",
        "    \n",
        "    return train, valid, test\n",
        "\n",
        "def train_model(train, valid, test=None, feature_cols=None):\n",
        "    if feature_cols is None:\n",
        "        feature_cols = train.columns.drop(['click_time', 'attributed_time',\n",
        "                                           'is_attributed'])\n",
        "    dtrain = lgb.Dataset(train[feature_cols], label=train['is_attributed'])\n",
        "    dvalid = lgb.Dataset(valid[feature_cols], label=valid['is_attributed'])\n",
        "    \n",
        "    param = {'num_leaves': 64, 'objective': 'binary', \n",
        "             'metric': 'auc', 'seed': 7}\n",
        "    num_round = 1000\n",
        "    print(\"Training model!\")\n",
        "    bst = lgb.train(param, dtrain, num_round, valid_sets=[dvalid], \n",
        "                    early_stopping_rounds=20, verbose_eval=False)\n",
        "    \n",
        "    valid_pred = bst.predict(valid[feature_cols])\n",
        "    valid_score = metrics.roc_auc_score(valid['is_attributed'], valid_pred)\n",
        "    print(f\"Validation AUC score: {valid_score}\")\n",
        "    \n",
        "    if test is not None: \n",
        "        test_pred = bst.predict(test[feature_cols])\n",
        "        test_score = metrics.roc_auc_score(test['is_attributed'], test_pred)\n",
        "        return bst, valid_score, test_score\n",
        "    else:\n",
        "        return bst, valid_score"
      ],
      "execution_count": 2,
      "outputs": []
    },
    {
      "cell_type": "markdown",
      "metadata": {
        "id": "Tl7bEJe-VwNe"
      },
      "source": [
        "## Baseline Score\n",
        "\n",
        "Let's look at the baseline score for all the features we've made so far."
      ]
    },
    {
      "cell_type": "code",
      "metadata": {
        "trusted": true,
        "colab": {
          "base_uri": "https://localhost:8080/"
        },
        "id": "INQHtyNOVwNe",
        "outputId": "d80838be-ce22-4805-85b7-7d03bde54a4e"
      },
      "source": [
        "train, valid, test = get_data_splits(clicks)\n",
        "_, baseline_score = train_model(train, valid)"
      ],
      "execution_count": 3,
      "outputs": [
        {
          "output_type": "stream",
          "text": [
            "Training model!\n",
            "Validation AUC score: 0.9658334271834417\n"
          ],
          "name": "stdout"
        }
      ]
    },
    {
      "cell_type": "markdown",
      "metadata": {
        "id": "-f0L9t0mVwNf"
      },
      "source": [
        "### 1) Which data to use for feature selection?\n",
        "\n",
        "Since many feature selection methods require calculating statistics from the dataset, should you use all the data for feature selection?"
      ]
    },
    {
      "cell_type": "markdown",
      "metadata": {
        "id": "QsYL4xMQaN1M"
      },
      "source": [
        "Solution: Including validation and test data within the feature selection is a source of leakage. You'll want to perform feature selection on the train set only, then use the results there to remove features from the validation and test sets."
      ]
    },
    {
      "cell_type": "markdown",
      "metadata": {
        "id": "gkIBG1-yVwNf"
      },
      "source": [
        "Now we have 91 features we're using for predictions. With all these features, there is a good chance the model is overfitting the data. We might be able to reduce the overfitting by removing some features. Of course, the model's performance might decrease. But at least we'd be making the model smaller and faster without losing much performance."
      ]
    },
    {
      "cell_type": "markdown",
      "metadata": {
        "id": "Rz5cG8ENVwNf"
      },
      "source": [
        "### 2) Univariate Feature Selection\n",
        "\n",
        "Below, use `SelectKBest` with the `f_classif` scoring function to choose 40 features from the 91 features in the data. "
      ]
    },
    {
      "cell_type": "code",
      "metadata": {
        "trusted": true,
        "id": "6v09ZyxkVwNf"
      },
      "source": [
        "from sklearn.feature_selection import SelectKBest, f_classif\n",
        "feature_cols = clicks.columns.drop(['click_time', 'attributed_time', 'is_attributed'])\n",
        "train, valid, test = get_data_splits(clicks)\n",
        "\n",
        "# Create the selector, keeping 40 features\n",
        "selector = SelectKBest(f_classif, k=40)\n",
        "\n",
        "# Use the selector to retrieve the best features\n",
        "X_new = selector.fit_transform(train[feature_cols], train['is_attributed']) \n",
        "\n",
        "# Get back the kept features as a DataFrame with dropped columns as all 0s\n",
        "selected_features = pd.DataFrame(selector.inverse_transform(X_new), \n",
        "                                 index=train.index, \n",
        "                                 columns=feature_cols)\n",
        "\n",
        "# Find the columns that were dropped\n",
        "dropped_columns = selected_features.columns[selected_features.var() == 0]"
      ],
      "execution_count": 4,
      "outputs": []
    },
    {
      "cell_type": "code",
      "metadata": {
        "trusted": true,
        "colab": {
          "base_uri": "https://localhost:8080/"
        },
        "id": "8Mg5MU6pVwNf",
        "outputId": "67550599-f23a-40dc-af19-e1abbe2bc8a7"
      },
      "source": [
        "_ = train_model(train.drop(dropped_columns, axis=1), \n",
        "                valid.drop(dropped_columns, axis=1))"
      ],
      "execution_count": 5,
      "outputs": [
        {
          "output_type": "stream",
          "text": [
            "Training model!\n",
            "Validation AUC score: 0.9625481759576047\n"
          ],
          "name": "stdout"
        }
      ]
    },
    {
      "cell_type": "markdown",
      "metadata": {
        "id": "e9I6VqbWVwNf"
      },
      "source": [
        "### 3) The best value of K\n",
        "\n",
        "With this method we can choose the best K features, but we still have to choose K ourselves. How would you find the \"best\" value of K? That is, you want it to be small so you're keeping the best features, but not so small that it's degrading the model's performance."
      ]
    },
    {
      "cell_type": "markdown",
      "metadata": {
        "id": "h8u4ImhCaWS2"
      },
      "source": [
        "Solution: To find the best value of K, you can fit multiple models with increasing values of K, then choose the smallest K with validation score above some threshold or some other criteria. A good way to do this is loop over values of K and record the validation scores for each iteration."
      ]
    },
    {
      "cell_type": "markdown",
      "metadata": {
        "id": "etW9Z1cVVwNf"
      },
      "source": [
        "### 4) Use L1 regularization for feature selection\n",
        "\n",
        "Now try a more powerful approach using L1 regularization. Implement a function `select_features_l1` that returns a list of features to keep.\n",
        "\n",
        "Use a `LogisticRegression` classifier model with an L1 penalty to select the features. For the model, set:\n",
        "- the random state to 7,\n",
        "- the regularization parameter to 0.1,\n",
        "- and the solver to `'liblinear'`.\n",
        "\n",
        "Fit the model then use `SelectFromModel` to return a model with the selected features.\n",
        "\n",
        "The checking code will run your function on a sample from the dataset to provide more immediate feedback."
      ]
    },
    {
      "cell_type": "code",
      "metadata": {
        "trusted": true,
        "id": "OUUTNofWVwNf"
      },
      "source": [
        "from sklearn.linear_model import LogisticRegression\n",
        "from sklearn.feature_selection import SelectFromModel\n",
        "\n",
        "def select_features_l1(X, y):\n",
        "    \"\"\"Return selected features using logistic regression with an L1 penalty.\"\"\"\n",
        "    logistic = LogisticRegression(C=0.1, penalty=\"l1\", solver='liblinear', random_state=7).fit(X, y)\n",
        "    model = SelectFromModel(logistic, prefit=True)\n",
        "    X_new = model.transform(X)\n",
        "    selected_features = pd.DataFrame(model.inverse_transform(X_new), \n",
        "                                 index=X.index,\n",
        "                                 columns=X.columns)\n",
        "    return selected_features.columns[selected_features.var() != 0]"
      ],
      "execution_count": 6,
      "outputs": []
    },
    {
      "cell_type": "code",
      "metadata": {
        "trusted": false,
        "colab": {
          "base_uri": "https://localhost:8080/"
        },
        "id": "8VocJbHOVwNg",
        "outputId": "f02d0448-fe01-4a28-d127-20f5835af218"
      },
      "source": [
        "n_samples = 10000\n",
        "X, y = train[feature_cols][:n_samples], train['is_attributed'][:n_samples]\n",
        "selected = select_features_l1(X, y)\n",
        "\n",
        "dropped_columns = feature_cols.drop(selected)\n",
        "_ = train_model(train.drop(dropped_columns, axis=1), \n",
        "                valid.drop(dropped_columns, axis=1))"
      ],
      "execution_count": 7,
      "outputs": [
        {
          "output_type": "stream",
          "text": [
            "Training model!\n",
            "Validation AUC score: 0.9655039361169727\n"
          ],
          "name": "stdout"
        }
      ]
    },
    {
      "cell_type": "markdown",
      "metadata": {
        "id": "ENK_xLwQVwNg"
      },
      "source": [
        "### 5) Feature Selection with Trees\n",
        "\n",
        "Since we're using a tree-based model, using another tree-based model for feature selection might produce better results. What would you do different to select the features using a trees classifier?"
      ]
    },
    {
      "cell_type": "markdown",
      "metadata": {
        "id": "7OHYaCKOahKK"
      },
      "source": [
        "Solution: You could use something like RandomForestClassifier or ExtraTreesClassifier to find feature importances. SelectFromModel can use the feature importances to find the best features.\n",
        "\n",
        "\n"
      ]
    },
    {
      "cell_type": "markdown",
      "metadata": {
        "id": "F9Hk3mzAVwNg"
      },
      "source": [
        "### 6) Top K features with L1 regularization\n",
        "\n",
        "Here you've set the regularization parameter `C=0.1` which led to some number of features being dropped. However, by setting `C` you aren't able to choose a certain number of features to keep. What would you do to keep the top K important features using L1 regularization?"
      ]
    },
    {
      "cell_type": "markdown",
      "metadata": {
        "id": "kOSWLi3Xal0P"
      },
      "source": [
        "Solution: To select a certain number of features with L1 regularization, you need to find the regularization parameter that leaves the desired number of features. To do this you can iterate over models with different regularization parameters from low to high and choose the one that leaves K features. Note that for the scikit-learn models C is the inverse of the regularization strength.\n",
        "\n",
        "\n"
      ]
    }
  ]
}